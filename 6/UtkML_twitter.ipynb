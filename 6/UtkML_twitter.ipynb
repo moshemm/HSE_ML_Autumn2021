{
 "cells": [
  {
   "cell_type": "code",
   "execution_count": 17,
   "id": "d0a64026",
   "metadata": {},
   "outputs": [],
   "source": [
    "import pandas as pd\n",
    "\n",
    "from sklearn.model_selection import train_test_split\n",
    "from sklearn.pipeline import Pipeline\n",
    "\n",
    "from sklearn.compose import ColumnTransformer\n",
    "from sklearn.feature_extraction.text import CountVectorizer\n",
    "from sklearn.feature_extraction.text import TfidfVectorizer\n",
    "from sklearn.impute import SimpleImputer\n",
    "from sklearn.preprocessing import StandardScaler\n",
    "\n",
    "from sklearn.linear_model import LogisticRegression\n",
    "from sklearn.svm import SVC\n",
    "from sklearn.tree import DecisionTreeClassifier\n",
    "from sklearn.ensemble import BaggingClassifier\n",
    "from sklearn.ensemble import RandomForestClassifier\n",
    "\n",
    "from sklearn.cluster import AgglomerativeClustering, KMeans\n",
    "from sklearn.decomposition import TruncatedSVD\n",
    "from sklearn.manifold import TSNE\n",
    "from sklearn import metrics\n",
    "\n",
    "from sklearn.metrics import classification_report\n",
    "\n",
    "from nltk.tokenize import word_tokenize\n",
    "\n",
    "from sklearn.metrics import accuracy_score\n",
    "\n",
    "from matplotlib import pylab as plt"
   ]
  },
  {
   "cell_type": "code",
   "execution_count": 17,
   "id": "412d0e55",
   "metadata": {},
   "outputs": [],
   "source": [
    "def analysis_hist(name):\n",
    "    \"\"\"Oh I'm so sorry for that name. The function is for analysing histograms of features\"\"\"\n",
    "    plt.figure(figsize=(10,6))\n",
    "    plt.hist(data[name], bins=20)\n",
    "    plt.xlabel('Values')\n",
    "    plt.ylabel(name)\n",
    "    plt.show()"
   ]
  },
  {
   "cell_type": "markdown",
   "id": "b4ce5e3a",
   "metadata": {},
   "source": [
    "### Loading data..."
   ]
  },
  {
   "cell_type": "code",
   "execution_count": 6,
   "id": "92b440ba",
   "metadata": {},
   "outputs": [],
   "source": [
    "data = pd.read_csv('train.csv')\n",
    "data.drop('Unnamed: 7', axis=1, inplace=True)  # там какая-то лишняя колонка была"
   ]
  },
  {
   "cell_type": "markdown",
   "id": "966d002a",
   "metadata": {},
   "source": [
    "### Анализируем данные"
   ]
  },
  {
   "cell_type": "code",
   "execution_count": 8,
   "id": "6f3dd294",
   "metadata": {},
   "outputs": [
    {
     "data": {
      "text/html": [
       "<div>\n",
       "<style scoped>\n",
       "    .dataframe tbody tr th:only-of-type {\n",
       "        vertical-align: middle;\n",
       "    }\n",
       "\n",
       "    .dataframe tbody tr th {\n",
       "        vertical-align: top;\n",
       "    }\n",
       "\n",
       "    .dataframe thead th {\n",
       "        text-align: right;\n",
       "    }\n",
       "</style>\n",
       "<table border=\"1\" class=\"dataframe\">\n",
       "  <thead>\n",
       "    <tr style=\"text-align: right;\">\n",
       "      <th></th>\n",
       "      <th>Tweet</th>\n",
       "      <th>following</th>\n",
       "      <th>followers</th>\n",
       "      <th>actions</th>\n",
       "      <th>is_retweet</th>\n",
       "      <th>location</th>\n",
       "      <th>Type</th>\n",
       "    </tr>\n",
       "  </thead>\n",
       "  <tbody>\n",
       "    <tr>\n",
       "      <th>0</th>\n",
       "      <td>Good Morning Love  @LeeBrown_V</td>\n",
       "      <td>0.0</td>\n",
       "      <td>0.0</td>\n",
       "      <td>0.0</td>\n",
       "      <td>0.0</td>\n",
       "      <td>Pennsylvania, USA</td>\n",
       "      <td>Quality</td>\n",
       "    </tr>\n",
       "    <tr>\n",
       "      <th>1</th>\n",
       "      <td>'@realDonaldTrump @USNavy RIP TO HEROES'</td>\n",
       "      <td>42096.0</td>\n",
       "      <td>61060.0</td>\n",
       "      <td>5001.0</td>\n",
       "      <td>0.0</td>\n",
       "      <td>South Padre Island, Texas</td>\n",
       "      <td>Spam</td>\n",
       "    </tr>\n",
       "    <tr>\n",
       "      <th>2</th>\n",
       "      <td>Haven't been following the news but I understa...</td>\n",
       "      <td>0.0</td>\n",
       "      <td>0.0</td>\n",
       "      <td>NaN</td>\n",
       "      <td>0.0</td>\n",
       "      <td>Will never be broke ever again</td>\n",
       "      <td>Quality</td>\n",
       "    </tr>\n",
       "    <tr>\n",
       "      <th>3</th>\n",
       "      <td>pic.twitter.com/dy9q4ftLhZ What to do with pap...</td>\n",
       "      <td>0.0</td>\n",
       "      <td>0.0</td>\n",
       "      <td>0.0</td>\n",
       "      <td>0.0</td>\n",
       "      <td>Mundo</td>\n",
       "      <td>Quality</td>\n",
       "    </tr>\n",
       "    <tr>\n",
       "      <th>4</th>\n",
       "      <td>#DidYouKnow ► Mahatma Gandhi made a brief visi...</td>\n",
       "      <td>17800.0</td>\n",
       "      <td>35100.0</td>\n",
       "      <td>NaN</td>\n",
       "      <td>0.0</td>\n",
       "      <td>Nottingham, England</td>\n",
       "      <td>Quality</td>\n",
       "    </tr>\n",
       "    <tr>\n",
       "      <th>5</th>\n",
       "      <td>#amms Samantha Bee Tries to ATTACK Trump, Inst...</td>\n",
       "      <td>29.0</td>\n",
       "      <td>7.0</td>\n",
       "      <td>389.0</td>\n",
       "      <td>0.0</td>\n",
       "      <td>England</td>\n",
       "      <td>Spam</td>\n",
       "    </tr>\n",
       "    <tr>\n",
       "      <th>6</th>\n",
       "      <td>please don't talk about me like that i'm only ...</td>\n",
       "      <td>0.0</td>\n",
       "      <td>6200000.0</td>\n",
       "      <td>NaN</td>\n",
       "      <td>1.0</td>\n",
       "      <td>los angeles, ca</td>\n",
       "      <td>Quality</td>\n",
       "    </tr>\n",
       "    <tr>\n",
       "      <th>7</th>\n",
       "      <td>Politicshttps://twitter.com/ngunjiriwambugu/st...</td>\n",
       "      <td>0.0</td>\n",
       "      <td>0.0</td>\n",
       "      <td>0.0</td>\n",
       "      <td>0.0</td>\n",
       "      <td>NaN</td>\n",
       "      <td>Quality</td>\n",
       "    </tr>\n",
       "    <tr>\n",
       "      <th>8</th>\n",
       "      <td>Banking on Brexit: is it time to Invest in the...</td>\n",
       "      <td>530.0</td>\n",
       "      <td>849.0</td>\n",
       "      <td>8288.0</td>\n",
       "      <td>1.0</td>\n",
       "      <td>Kuala Lumpur</td>\n",
       "      <td>Spam</td>\n",
       "    </tr>\n",
       "    <tr>\n",
       "      <th>9</th>\n",
       "      <td>They are serving and protecting #5WordRegrets ...</td>\n",
       "      <td>6601.0</td>\n",
       "      <td>8805.0</td>\n",
       "      <td>10712.0</td>\n",
       "      <td>0.0</td>\n",
       "      <td>Sheffield, England</td>\n",
       "      <td>Spam</td>\n",
       "    </tr>\n",
       "  </tbody>\n",
       "</table>\n",
       "</div>"
      ],
      "text/plain": [
       "                                               Tweet  following  followers  \\\n",
       "0                     Good Morning Love  @LeeBrown_V        0.0        0.0   \n",
       "1           '@realDonaldTrump @USNavy RIP TO HEROES'    42096.0    61060.0   \n",
       "2  Haven't been following the news but I understa...        0.0        0.0   \n",
       "3  pic.twitter.com/dy9q4ftLhZ What to do with pap...        0.0        0.0   \n",
       "4  #DidYouKnow ► Mahatma Gandhi made a brief visi...    17800.0    35100.0   \n",
       "5  #amms Samantha Bee Tries to ATTACK Trump, Inst...       29.0        7.0   \n",
       "6  please don't talk about me like that i'm only ...        0.0  6200000.0   \n",
       "7  Politicshttps://twitter.com/ngunjiriwambugu/st...        0.0        0.0   \n",
       "8  Banking on Brexit: is it time to Invest in the...      530.0      849.0   \n",
       "9  They are serving and protecting #5WordRegrets ...     6601.0     8805.0   \n",
       "\n",
       "   actions  is_retweet                        location     Type  \n",
       "0      0.0         0.0               Pennsylvania, USA  Quality  \n",
       "1   5001.0         0.0       South Padre Island, Texas     Spam  \n",
       "2      NaN         0.0  Will never be broke ever again  Quality  \n",
       "3      0.0         0.0                           Mundo  Quality  \n",
       "4      NaN         0.0             Nottingham, England  Quality  \n",
       "5    389.0         0.0                         England     Spam  \n",
       "6      NaN         1.0                 los angeles, ca  Quality  \n",
       "7      0.0         0.0                             NaN  Quality  \n",
       "8   8288.0         1.0                    Kuala Lumpur     Spam  \n",
       "9  10712.0         0.0              Sheffield, England     Spam  "
      ]
     },
     "execution_count": 8,
     "metadata": {},
     "output_type": "execute_result"
    }
   ],
   "source": [
    "data.head(10)"
   ]
  },
  {
   "cell_type": "code",
   "execution_count": 9,
   "id": "55634444",
   "metadata": {},
   "outputs": [
    {
     "name": "stdout",
     "output_type": "stream",
     "text": [
      "<class 'pandas.core.frame.DataFrame'>\n",
      "RangeIndex: 14899 entries, 0 to 14898\n",
      "Data columns (total 7 columns):\n",
      " #   Column      Non-Null Count  Dtype  \n",
      "---  ------      --------------  -----  \n",
      " 0   Tweet       14899 non-null  object \n",
      " 1   following   14741 non-null  float64\n",
      " 2   followers   14882 non-null  float64\n",
      " 3   actions     11462 non-null  float64\n",
      " 4   is_retweet  14898 non-null  float64\n",
      " 5   location    12888 non-null  object \n",
      " 6   Type        14899 non-null  object \n",
      "dtypes: float64(4), object(3)\n",
      "memory usage: 814.9+ KB\n"
     ]
    }
   ],
   "source": [
    "data.info()"
   ]
  },
  {
   "cell_type": "code",
   "execution_count": 10,
   "id": "f1996428",
   "metadata": {},
   "outputs": [
    {
     "data": {
      "text/plain": [
       "array(['Quality', 'Spam', 'South Dakota'], dtype=object)"
      ]
     },
     "execution_count": 10,
     "metadata": {},
     "output_type": "execute_result"
    }
   ],
   "source": [
    "data.Type.unique()"
   ]
  },
  {
   "cell_type": "markdown",
   "id": "e10f40c7",
   "metadata": {},
   "source": [
    "Видим, что 1) в типе есть какая-то фигня, которую нужно дропнуть 2) есть наны"
   ]
  },
  {
   "cell_type": "code",
   "execution_count": 7,
   "id": "72944940",
   "metadata": {},
   "outputs": [],
   "source": [
    "data = data[data.Type != \"South Dakota\"]"
   ]
  },
  {
   "cell_type": "markdown",
   "id": "e420cb64",
   "metadata": {},
   "source": [
    "Заменяем целевую переменную на число"
   ]
  },
  {
   "cell_type": "code",
   "execution_count": 8,
   "id": "9f5ed68a",
   "metadata": {},
   "outputs": [],
   "source": [
    "data['Type'] = data['Type'].apply(lambda x: 0 if x == 'Quality' else 1)"
   ]
  },
  {
   "cell_type": "markdown",
   "id": "8dd0be5d",
   "metadata": {},
   "source": [
    "Разделяем на признаки и ЦП"
   ]
  },
  {
   "cell_type": "code",
   "execution_count": 9,
   "id": "ac54112a",
   "metadata": {},
   "outputs": [],
   "source": [
    "y = data['Type']\n",
    "X = data.drop('Type', axis=1)"
   ]
  },
  {
   "cell_type": "code",
   "execution_count": 16,
   "id": "8346372f",
   "metadata": {},
   "outputs": [
    {
     "data": {
      "text/plain": [
       "14897"
      ]
     },
     "execution_count": 16,
     "metadata": {},
     "output_type": "execute_result"
    }
   ],
   "source": [
    "len(data)"
   ]
  },
  {
   "cell_type": "code",
   "execution_count": 18,
   "id": "cfcce8de",
   "metadata": {},
   "outputs": [
    {
     "data": {
      "image/png": "[encoded data removed]",
      "text/plain": [
       "<Figure size 720x432 with 1 Axes>"
      ]
     },
     "metadata": {
      "needs_background": "light"
     },
     "output_type": "display_data"
    },
    {
     "data": {
      "image/png": "[encoded data removed]",
      "text/plain": [
       "<Figure size 720x432 with 1 Axes>"
      ]
     },
     "metadata": {
      "needs_background": "light"
     },
     "output_type": "display_data"
    },
    {
     "data": {
      "image/png": "[encoded data removed]",
      "text/plain": [
       "<Figure size 720x432 with 1 Axes>"
      ]
     },
     "metadata": {
      "needs_background": "light"
     },
     "output_type": "display_data"
    },
    {
     "data": {
      "image/png": "[encoded data removed]",
      "text/plain": [
       "<Figure size 720x432 with 1 Axes>"
      ]
     },
     "metadata": {
      "needs_background": "light"
     },
     "output_type": "display_data"
    },
    {
     "data": {
      "image/png": "[encoded data removed]",
      "text/plain": [
       "<Figure size 720x432 with 1 Axes>"
      ]
     },
     "metadata": {
      "needs_background": "light"
     },
     "output_type": "display_data"
    }
   ],
   "source": [
    "for column in data._get_numeric_data():\n",
    "    analysis_hist(column)"
   ]
  },
  {
   "cell_type": "markdown",
   "id": "2728ba81",
   "metadata": {},
   "source": [
    "Видим, что а) ни один из признаков не имеет нормального распределения б) для небинарных признаков самое частое значение - 0. Скорее всего, наиболее важную информацию несут сами твиты (мы намеренно не стали удалять ссылки и хештеги, потому что они, скорее всего, вообще сделают самый важный вклад). \n",
    "\n",
    "Географические локации было решено отбросить, потому что их сложно обработать качественно и есть серьезное подозрение, что они не дадут примерно никакого вклада"
   ]
  },
  {
   "cell_type": "code",
   "execution_count": 3,
   "id": "7acd1c57",
   "metadata": {},
   "outputs": [],
   "source": [
    "def feature_engineering(choice_transformer, choice_ngrams):\n",
    "    \n",
    "    \"\"\"числовые характеристики нормализуем:\n",
    "    imputer обрабатывает наны, scaler масштабирует\"\"\"\n",
    "    \n",
    "    numeric_features = ['following', 'followers', 'actions', 'is_retweet']\n",
    "    numeric_transformer = Pipeline(\n",
    "        steps=[(\"imputer\", SimpleImputer(strategy=\"median\")), (\"scaler\", StandardScaler())]\n",
    "    )\n",
    "\n",
    "    # текстовые характеристики обрабатываем: либо tf-idf, либо мешок слов\n",
    "    text_features = 'Tweet'\n",
    "    if choice_transformer == 'tfidf':\n",
    "        text_transformer = TfidfVectorizer(ngram_range=choice_ngrams, tokenizer=word_tokenize, stop_words='english')\n",
    "    else:\n",
    "        text_transformer = CountVectorizer(ngram_range=choice_ngrams, tokenizer=word_tokenize, stop_words='english')\n",
    "\n",
    "    preprocessor = ColumnTransformer(\n",
    "        transformers=[\n",
    "            (\"num\", numeric_transformer, numeric_features),\n",
    "            (\"txt\", text_transformer, text_features),\n",
    "        ]\n",
    "    )\n",
    "    return preprocessor"
   ]
  },
  {
   "cell_type": "markdown",
   "id": "97f4898f",
   "metadata": {
    "tags": []
   },
   "source": [
    "### Кластеризация"
   ]
  },
  {
   "cell_type": "markdown",
   "id": "c0a5588b",
   "metadata": {},
   "source": [
    "Поскольку у нас все оказалось слишком легко, мы решили запилить кластеризацию just for lulz\n",
    "\n",
    "Сперва нарисовали PCA (из-за того, что матрица itfidf разреженная, пришлось взять TruncatedSVD) и t-SNE для исходных меток, чтобы посмотреть, насколько четенько они укладываются по кластерам (да! четенько)"
   ]
  },
  {
   "cell_type": "code",
   "execution_count": 21,
   "id": "a9ac5cb0",
   "metadata": {},
   "outputs": [],
   "source": [
    "def plot_draw(cluster_labels):\n",
    "    \"\"\"Функция для построения графика, принимает ярлыки кластеров\"\"\"\n",
    "    plt.figure(figsize=(13,10))\n",
    "    plt.scatter(X_pca[:, 0], X_pca[:, 1], c=cluster_labels, s=20, cmap='viridis');\n",
    "    plt.colorbar()\n",
    "    plt.show()"
   ]
  },
  {
   "cell_type": "code",
   "execution_count": 39,
   "id": "fdddf735",
   "metadata": {},
   "outputs": [],
   "source": [
    "def metrics_print(method):\n",
    "    \"\"\"Красивый вывод метрик\"\"\"\n",
    "    print(method, '\\n--------')\n",
    "    print(f\"{'Homogeneity':<30}{metrics.homogeneity_score(y, method.labels_):>6.3f}\")\n",
    "    print(f\"{'Completeness':<30}{metrics.completeness_score(y, method.labels_):>6.3f}\")\n",
    "    print(f\"{'V-measure':<30}{metrics.v_measure_score(y, method.labels_):>6.3f}\")\n",
    "    print(f\"{'Adjusted Rand-Index':<30}{metrics.adjusted_rand_score(y, method.labels_):>6.3f}\")\n",
    "    print(f\"{'Adjusted mutual info score':<30}{metrics.adjusted_mutual_info_score(y, method.labels_):>6.3f}\")"
   ]
  },
  {
   "cell_type": "code",
   "execution_count": 23,
   "id": "e86b4a90",
   "metadata": {},
   "outputs": [],
   "source": [
    "X_processed = feature_engineering('tfidf', (1, 1)).fit_transform(X)"
   ]
  },
  {
   "cell_type": "code",
   "execution_count": 27,
   "id": "55658b00",
   "metadata": {},
   "outputs": [],
   "source": [
    "tsvd = TruncatedSVD()\n",
    "X_pca = tsvd.fit_transform(X_processed)"
   ]
  },
  {
   "cell_type": "code",
   "execution_count": 28,
   "id": "38ee3705",
   "metadata": {},
   "outputs": [
    {
     "data": {
      "image/png": "[encoded data removed]",
      "text/plain": [
       "<Figure size 936x720 with 2 Axes>"
      ]
     },
     "metadata": {
      "needs_background": "light"
     },
     "output_type": "display_data"
    }
   ],
   "source": [
    "plot_draw(y)"
   ]
  },
  {
   "cell_type": "code",
   "execution_count": 50,
   "id": "e846c281",
   "metadata": {},
   "outputs": [
    {
     "data": {
      "text/plain": [
       "Text(0.5, 1.0, 'MNIST. t-SNE projection')"
      ]
     },
     "execution_count": 50,
     "metadata": {},
     "output_type": "execute_result"
    },
    {
     "data": {
      "image/png": "[encoded data removed]",
      "text/plain": [
       "<Figure size 864x720 with 2 Axes>"
      ]
     },
     "metadata": {
      "needs_background": "light"
     },
     "output_type": "display_data"
    }
   ],
   "source": [
    "tsne = TSNE(random_state=17)\n",
    "X_tsne = tsne.fit_transform(X_processed)\n",
    "\n",
    "plt.figure(figsize=(12,10))\n",
    "plt.scatter(X_tsne[:, 0], X_tsne[:, 1], c=y, \n",
    "            edgecolor='none', alpha=0.7, s=40,\n",
    "            cmap=plt.cm.get_cmap('viridis', 2))\n",
    "plt.colorbar()\n",
    "plt.title('MNIST. t-SNE projection')"
   ]
  },
  {
   "cell_type": "markdown",
   "id": "b8273150",
   "metadata": {},
   "source": [
    "Какая-то рыба-меч получилась... с детенышем\n",
    "\n",
    "PCA, как ни странно, нагляднее. \n",
    "\n",
    "Дальше попробуем кластеризовать двумя вариантами (был еще DBSCAN, но не взлетел - не трактуемые кластеры, а как правильнее подобрать e, мы че-то не разобрались)"
   ]
  },
  {
   "cell_type": "code",
   "execution_count": 43,
   "id": "8a9b65ff",
   "metadata": {},
   "outputs": [
    {
     "name": "stdout",
     "output_type": "stream",
     "text": [
      "AgglomerativeClustering() \n",
      "--------\n",
      "Homogeneity                    0.001\n",
      "Completeness                   0.090\n",
      "V-measure                      0.002\n",
      "Adjusted Rand-Index            0.000\n",
      "Adjusted mutual info score     0.002\n"
     ]
    },
    {
     "data": {
      "image/png": "[encoded data removed]",
      "text/plain": [
       "<Figure size 936x720 with 2 Axes>"
      ]
     },
     "metadata": {
      "needs_background": "light"
     },
     "output_type": "display_data"
    }
   ],
   "source": [
    "cluster = AgglomerativeClustering(n_clusters=2)\n",
    "cluster.fit(X_pca)\n",
    "metrics_print(cluster)\n",
    "plot_draw(cluster.fit_predict(X_pca))"
   ]
  },
  {
   "cell_type": "code",
   "execution_count": 42,
   "id": "45eae2b5",
   "metadata": {},
   "outputs": [
    {
     "name": "stdout",
     "output_type": "stream",
     "text": [
      "KMeans(n_clusters=2) \n",
      "--------\n",
      "Homogeneity                    0.003\n",
      "Completeness                   0.103\n",
      "V-measure                      0.006\n",
      "Adjusted Rand-Index            0.000\n",
      "Adjusted mutual info score     0.006\n"
     ]
    },
    {
     "data": {
      "image/png": "[encoded data removed]",
      "text/plain": [
       "<Figure size 936x720 with 2 Axes>"
      ]
     },
     "metadata": {
      "needs_background": "light"
     },
     "output_type": "display_data"
    }
   ],
   "source": [
    "kmeans = KMeans(n_clusters=2).fit(X_pca)\n",
    "metrics_print(kmeans)\n",
    "plot_draw(kmeans.fit_predict(X_pca))"
   ]
  },
  {
   "cell_type": "markdown",
   "id": "35f7df90",
   "metadata": {},
   "source": [
    "K-Means на текстах дал лучший результат (не намного, правда). Метрики очень плохие у всего. "
   ]
  },
  {
   "cell_type": "markdown",
   "id": "76cf6a21",
   "metadata": {},
   "source": [
    "### Обучение моделей"
   ]
  },
  {
   "cell_type": "code",
   "execution_count": 14,
   "id": "f5e2d989",
   "metadata": {},
   "outputs": [
    {
     "data": {
      "text/html": [
       "<div>\n",
       "<style scoped>\n",
       "    .dataframe tbody tr th:only-of-type {\n",
       "        vertical-align: middle;\n",
       "    }\n",
       "\n",
       "    .dataframe tbody tr th {\n",
       "        vertical-align: top;\n",
       "    }\n",
       "\n",
       "    .dataframe thead th {\n",
       "        text-align: right;\n",
       "    }\n",
       "</style>\n",
       "<table border=\"1\" class=\"dataframe\">\n",
       "  <thead>\n",
       "    <tr style=\"text-align: right;\">\n",
       "      <th></th>\n",
       "      <th>Tweet</th>\n",
       "      <th>following</th>\n",
       "      <th>followers</th>\n",
       "      <th>actions</th>\n",
       "      <th>is_retweet</th>\n",
       "      <th>location</th>\n",
       "    </tr>\n",
       "  </thead>\n",
       "  <tbody>\n",
       "    <tr>\n",
       "      <th>0</th>\n",
       "      <td>Cops shoot blacks almost everyday, and there a...</td>\n",
       "      <td>5509.0</td>\n",
       "      <td>5977.0</td>\n",
       "      <td>8062.0</td>\n",
       "      <td>1</td>\n",
       "      <td>ですpacito</td>\n",
       "    </tr>\n",
       "    <tr>\n",
       "      <th>1</th>\n",
       "      <td>#HAPPYTAEYANGDAY  Oppa,happy birthday to you, ...</td>\n",
       "      <td>0.0</td>\n",
       "      <td>0.0</td>\n",
       "      <td>NaN</td>\n",
       "      <td>0</td>\n",
       "      <td>NaN</td>\n",
       "    </tr>\n",
       "    <tr>\n",
       "      <th>2</th>\n",
       "      <td>RT @HoneyBadger10: Panthers in the super bowl....</td>\n",
       "      <td>471.0</td>\n",
       "      <td>229.0</td>\n",
       "      <td>747.0</td>\n",
       "      <td>0</td>\n",
       "      <td>B'klyn, NYC, LA</td>\n",
       "    </tr>\n",
       "    <tr>\n",
       "      <th>3</th>\n",
       "      <td>Sorry my Twitter keeps posting my retweets a m...</td>\n",
       "      <td>0.0</td>\n",
       "      <td>79800.0</td>\n",
       "      <td>48.0</td>\n",
       "      <td>0</td>\n",
       "      <td>NaN</td>\n",
       "    </tr>\n",
       "    <tr>\n",
       "      <th>4</th>\n",
       "      <td>Heart attack causes and symptoms are different...</td>\n",
       "      <td>902.0</td>\n",
       "      <td>5797.0</td>\n",
       "      <td>4270.0</td>\n",
       "      <td>0</td>\n",
       "      <td>Chicago</td>\n",
       "    </tr>\n",
       "  </tbody>\n",
       "</table>\n",
       "</div>"
      ],
      "text/plain": [
       "                                               Tweet  following  followers  \\\n",
       "0  Cops shoot blacks almost everyday, and there a...     5509.0     5977.0   \n",
       "1  #HAPPYTAEYANGDAY  Oppa,happy birthday to you, ...        0.0        0.0   \n",
       "2  RT @HoneyBadger10: Panthers in the super bowl....      471.0      229.0   \n",
       "3  Sorry my Twitter keeps posting my retweets a m...        0.0    79800.0   \n",
       "4  Heart attack causes and symptoms are different...      902.0     5797.0   \n",
       "\n",
       "   actions  is_retweet         location  \n",
       "0   8062.0           1         ですpacito  \n",
       "1      NaN           0              NaN  \n",
       "2    747.0           0  B'klyn, NYC, LA  \n",
       "3     48.0           0              NaN  \n",
       "4   4270.0           0          Chicago  "
      ]
     },
     "execution_count": 14,
     "metadata": {},
     "output_type": "execute_result"
    }
   ],
   "source": [
    "test = pd.read_csv('test.csv')\n",
    "test.drop('Id', axis=1, inplace=True)\n",
    "test.head()"
   ]
  },
  {
   "cell_type": "code",
   "execution_count": 4,
   "id": "6019baa4",
   "metadata": {},
   "outputs": [],
   "source": [
    "def modelfit(model, filename):\n",
    "    model.fit(Xtrain, ytrain)\n",
    "    \n",
    "    ypredtest = model.predict(Xtest)\n",
    "    ypredtrain = model.predict(Xtrain)\n",
    "    \n",
    "    print(accuracy_score(ytest, ypredtest), accuracy_score(ytrain, ypredtrain))\n",
    "    \n",
    "    y_final_test = model.predict(test)\n",
    "    df = pd.DataFrame(list(zip(range(len(y_final_test)), y_final_test)), columns=['Id', 'Type'])\n",
    "    df['Type'] = df['Type'].apply(lambda x: 'Quality' if x == 0 else 'Spam')\n",
    "    df.to_csv(f'submission_{filename}.csv', index=False)"
   ]
  },
  {
   "cell_type": "code",
   "execution_count": 10,
   "id": "edddbae6",
   "metadata": {},
   "outputs": [],
   "source": [
    "Xtrain, Xtest, ytrain, ytest = train_test_split(X, y, test_size=0.2)"
   ]
  },
  {
   "cell_type": "markdown",
   "id": "7d66f579",
   "metadata": {},
   "source": [
    "TF-IDF unigrams"
   ]
  },
  {
   "cell_type": "code",
   "execution_count": 66,
   "id": "8d8999de",
   "metadata": {},
   "outputs": [],
   "source": [
    "preprocessor = feature_engineering('tfidf', (1, 1))\n",
    "\n",
    "clfLR = Pipeline(\n",
    "    steps=[(\"preprocessor\", preprocessor), (\"classifier\", LogisticRegression())]\n",
    ")\n",
    "\n",
    "clfSVC = Pipeline(\n",
    "    steps=[(\"preprocessor\", preprocessor), (\"classifier\", SVC())]\n",
    ")"
   ]
  },
  {
   "cell_type": "code",
   "execution_count": 67,
   "id": "14c2bc51",
   "metadata": {},
   "outputs": [
    {
     "name": "stdout",
     "output_type": "stream",
     "text": [
      "0.9671140939597316 0.9739867416296047\n",
      "0.9704697986577181 0.9812872367206512\n"
     ]
    }
   ],
   "source": [
    "modelfit(clfLR, 'tfidfUniLogreg')\n",
    "modelfit(clfSVC, 'tfidfUniSvc')"
   ]
  },
  {
   "cell_type": "markdown",
   "id": "d6a49fd2",
   "metadata": {},
   "source": [
    "TF-IDF bigrams"
   ]
  },
  {
   "cell_type": "code",
   "execution_count": 68,
   "id": "8510d8b1",
   "metadata": {},
   "outputs": [],
   "source": [
    "preprocessor = feature_engineering('tfidf', (2, 2))\n",
    "\n",
    "clfLR = Pipeline(\n",
    "    steps=[(\"preprocessor\", preprocessor), (\"classifier\", LogisticRegression())]\n",
    ")\n",
    "\n",
    "clfSVC = Pipeline(\n",
    "    steps=[(\"preprocessor\", preprocessor), (\"classifier\", SVC())]\n",
    ")"
   ]
  },
  {
   "cell_type": "code",
   "execution_count": 69,
   "id": "86c8ab07",
   "metadata": {},
   "outputs": [
    {
     "name": "stdout",
     "output_type": "stream",
     "text": [
      "0.9389261744966443 0.9661827641184862\n",
      "0.9533557046979866 0.9749097927330704\n"
     ]
    }
   ],
   "source": [
    "modelfit(clfLR, 'tfidfBiLogreg')\n",
    "modelfit(clfSVC, 'tfidfBiSvc')"
   ]
  },
  {
   "cell_type": "markdown",
   "id": "9cdcec38",
   "metadata": {},
   "source": [
    "BOW unigrams"
   ]
  },
  {
   "cell_type": "code",
   "execution_count": 70,
   "id": "18fc8b4a",
   "metadata": {},
   "outputs": [],
   "source": [
    "preprocessor = feature_engineering('bow', (1, 1))\n",
    "\n",
    "clfLR = Pipeline(\n",
    "    steps=[(\"preprocessor\", preprocessor), (\"classifier\", LogisticRegression())]\n",
    ")\n",
    "\n",
    "clfSVC = Pipeline(\n",
    "    steps=[(\"preprocessor\", preprocessor), (\"classifier\", SVC())]\n",
    ")"
   ]
  },
  {
   "cell_type": "code",
   "execution_count": 71,
   "id": "0d5f7016",
   "metadata": {},
   "outputs": [
    {
     "name": "stderr",
     "output_type": "stream",
     "text": [
      "f:\\code\\python\\python38\\lib\\site-packages\\sklearn\\linear_model\\_logistic.py:814: ConvergenceWarning: lbfgs failed to converge (status=1):\n",
      "STOP: TOTAL NO. of ITERATIONS REACHED LIMIT.\n",
      "\n",
      "Increase the number of iterations (max_iter) or scale the data as shown in:\n",
      "    https://scikit-learn.org/stable/modules/preprocessing.html\n",
      "Please also refer to the documentation for alternative solver options:\n",
      "    https://scikit-learn.org/stable/modules/linear_model.html#logistic-regression\n",
      "  n_iter_i = _check_optimize_result(\n"
     ]
    },
    {
     "name": "stdout",
     "output_type": "stream",
     "text": [
      "0.9604026845637584 0.9913568851220945\n",
      "0.9570469798657718 0.9833011664009398\n"
     ]
    }
   ],
   "source": [
    "modelfit(clfLR, 'bowUniLogreg')\n",
    "modelfit(clfSVC, 'bowUniSvc')"
   ]
  },
  {
   "cell_type": "markdown",
   "id": "a96a485a",
   "metadata": {},
   "source": [
    "BOW bigrams"
   ]
  },
  {
   "cell_type": "code",
   "execution_count": 72,
   "id": "1f151b8f",
   "metadata": {},
   "outputs": [],
   "source": [
    "preprocessor = feature_engineering('bow', (2, 2))\n",
    "\n",
    "clfLR = Pipeline(\n",
    "    steps=[(\"preprocessor\", preprocessor), (\"classifier\", LogisticRegression())]\n",
    ")\n",
    "\n",
    "clfSVC = Pipeline(\n",
    "    steps=[(\"preprocessor\", preprocessor), (\"classifier\", SVC())]\n",
    ")"
   ]
  },
  {
   "cell_type": "code",
   "execution_count": 73,
   "id": "90440b34",
   "metadata": {},
   "outputs": [
    {
     "name": "stdout",
     "output_type": "stream",
     "text": [
      "0.9540268456375839 0.9945456071158849\n",
      "0.95 0.984895527397835\n"
     ]
    }
   ],
   "source": [
    "modelfit(clfLR, 'bowBiLogreg')\n",
    "modelfit(clfSVC, 'bowBiSvc')"
   ]
  },
  {
   "cell_type": "markdown",
   "id": "13015009",
   "metadata": {},
   "source": [
    "BOW Bagging"
   ]
  },
  {
   "cell_type": "code",
   "execution_count": 77,
   "id": "29b0640d",
   "metadata": {},
   "outputs": [],
   "source": [
    "preprocessor = feature_engineering('bow', (1, 1))\n",
    "\n",
    "bagging = Pipeline(\n",
    "    steps=[(\"preprocessor\", preprocessor), (\"classifier\", BaggingClassifier())]\n",
    ")"
   ]
  },
  {
   "cell_type": "code",
   "execution_count": 78,
   "id": "4390cf89",
   "metadata": {},
   "outputs": [
    {
     "name": "stdout",
     "output_type": "stream",
     "text": [
      "0.9946308724832215 0.999160862633213\n"
     ]
    }
   ],
   "source": [
    "modelfit(bagging, 'bowUniBag')"
   ]
  },
  {
   "cell_type": "code",
   "execution_count": 79,
   "id": "0cac9304",
   "metadata": {},
   "outputs": [],
   "source": [
    "preprocessor = feature_engineering('bow', (2, 2))\n",
    "\n",
    "bagging = Pipeline(\n",
    "    steps=[(\"preprocessor\", preprocessor), (\"classifier\", BaggingClassifier())]\n",
    ")"
   ]
  },
  {
   "cell_type": "code",
   "execution_count": 80,
   "id": "8c086b99",
   "metadata": {},
   "outputs": [
    {
     "name": "stdout",
     "output_type": "stream",
     "text": [
      "0.9969798657718121 0.9987412939498196\n"
     ]
    }
   ],
   "source": [
    "modelfit(bagging, 'bowBiBag')"
   ]
  },
  {
   "cell_type": "markdown",
   "id": "2ba6be20",
   "metadata": {},
   "source": [
    "Random Forest"
   ]
  },
  {
   "cell_type": "code",
   "execution_count": 15,
   "id": "87a3ec8a",
   "metadata": {},
   "outputs": [
    {
     "name": "stdout",
     "output_type": "stream",
     "text": [
      "0.9939597315436242 1.0\n"
     ]
    }
   ],
   "source": [
    "preprocessor = feature_engineering('bow', (2, 2))\n",
    "\n",
    "clf = Pipeline(\n",
    "    steps=[(\"preprocessor\", preprocessor), (\"classifier\", RandomForestClassifier())]\n",
    ")\n",
    "\n",
    "modelfit(clf, 'bowBiForest')"
   ]
  },
  {
   "cell_type": "markdown",
   "id": "74612b65",
   "metadata": {},
   "source": [
    "Проверка только на твитах (чтобы посмотреть, что влияет сильнее всего)"
   ]
  },
  {
   "cell_type": "code",
   "execution_count": 18,
   "id": "e03b64df",
   "metadata": {},
   "outputs": [
    {
     "name": "stdout",
     "output_type": "stream",
     "text": [
      "              precision    recall  f1-score   support\n",
      "\n",
      "           0       0.96      0.59      0.73      2387\n",
      "           1       0.35      0.89      0.50       593\n",
      "\n",
      "    accuracy                           0.65      2980\n",
      "   macro avg       0.65      0.74      0.62      2980\n",
      "weighted avg       0.83      0.65      0.68      2980\n",
      "\n"
     ]
    }
   ],
   "source": [
    "vec = CountVectorizer(ngram_range=(3, 3), tokenizer=word_tokenize, stop_words='english')\n",
    "bow = vec.fit_transform(Xtrain['Tweet'])\n",
    "clf = DecisionTreeClassifier()\n",
    "clf.fit(bow, ytrain)\n",
    "ypredtest = clf.predict(vec.transform(Xtest['Tweet']))\n",
    "print(classification_report(ypredtest, ytest))"
   ]
  },
  {
   "cell_type": "code",
   "execution_count": 19,
   "id": "9e94e206",
   "metadata": {},
   "outputs": [
    {
     "data": {
      "text/plain": [
       "[('just need :', 66165),\n",
       " ('need : return', 76390),\n",
       " (': return neoliberalizer-in-chief', 23662),\n",
       " ('return neoliberalizer-in-chief !', 86588),\n",
       " ('neoliberalizer-in-chief ! ,', 76626),\n",
       " ('! , #', 389),\n",
       " (', # weneedberniehttp', 9251),\n",
       " ('# weneedberniehttp :', 4823),\n",
       " ('weneedberniehttp : //abcnews.go.com/politics/bill-clinton-charge-revitalizing-economy-hillary-clinton/story',\n",
       "  103931),\n",
       " (': //abcnews.go.com/politics/bill-clinton-charge-revitalizing-economy-hillary-clinton/story ?',\n",
       "  19401)]"
      ]
     },
     "execution_count": 19,
     "metadata": {},
     "output_type": "execute_result"
    }
   ],
   "source": [
    "list(vec.vocabulary_.items())[:10]"
   ]
  },
  {
   "cell_type": "markdown",
   "id": "9394ba2e",
   "metadata": {},
   "source": [
    "Проверим гипотезу о том, что ссылки сильнее всего влияют на определение спама"
   ]
  },
  {
   "cell_type": "code",
   "execution_count": 21,
   "id": "ca422812",
   "metadata": {},
   "outputs": [],
   "source": [
    "tweets = list(data['Tweet'])\n",
    "nums = []\n",
    "\n",
    "for num, w in enumerate(tweets):\n",
    "    if 't.co' in w:\n",
    "        nums.append(num)"
   ]
  },
  {
   "cell_type": "code",
   "execution_count": 22,
   "id": "edbc369f",
   "metadata": {},
   "outputs": [],
   "source": [
    "spamham = list(data['Type'])\n",
    "needed = []\n",
    "for i, w in enumerate(spamham):\n",
    "    if i in nums:\n",
    "        needed.append(w)"
   ]
  },
  {
   "cell_type": "code",
   "execution_count": 23,
   "id": "37376218",
   "metadata": {},
   "outputs": [
    {
     "data": {
      "text/plain": [
       "Counter({1: 4551, 0: 67})"
      ]
     },
     "execution_count": 23,
     "metadata": {},
     "output_type": "execute_result"
    }
   ],
   "source": [
    "from collections import Counter\n",
    "\n",
    "Counter(needed)"
   ]
  },
  {
   "cell_type": "markdown",
   "id": "ea99d9d0",
   "metadata": {},
   "source": [
    "Оказывается, подавляющее большинство текстов со ссылками определено как спам"
   ]
  },
  {
   "cell_type": "code",
   "execution_count": null,
   "id": "07314946",
   "metadata": {},
   "outputs": [],
   "source": []
  }
 ],
 "metadata": {
  "kernelspec": {
   "display_name": "Python 3 (ipykernel)",
   "language": "python",
   "name": "python3"
  },
  "language_info": {
   "codemirror_mode": {
    "name": "ipython",
    "version": 3
   },
   "file_extension": ".py",
   "mimetype": "text/x-python",
   "name": "python",
   "nbconvert_exporter": "python",
   "pygments_lexer": "ipython3",
   "version": "3.9.12"
  }
 },
 "nbformat": 4,
 "nbformat_minor": 5
}
