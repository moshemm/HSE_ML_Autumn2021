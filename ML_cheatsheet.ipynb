{
 "cells": [
  {
   "cell_type": "code",
   "execution_count": null,
   "metadata": {},
   "outputs": [],
   "source": [
    "import pandas as pd\n",
    "import numpy as np\n",
    "import seaborn as sns\n",
    "from matplotlib import pylab as plt\n",
    "%pylab inline\n",
    "\n",
    "from sklearn.linear_model import LinearRegression\n",
    "from sklearn.metrics import mean_squared_error, r2_score"
   ]
  },
  {
   "cell_type": "code",
   "execution_count": null,
   "metadata": {},
   "outputs": [],
   "source": [
    "data = pd.read_csv()"
   ]
  },
  {
   "cell_type": "code",
   "execution_count": null,
   "metadata": {},
   "outputs": [],
   "source": [
    "data.describe() # хар-ки цифровых данных \n",
    "data[\"NewAge\"] = data[\"Age\"].apply(lambda x: x+100) # менять что-то в данных\n",
    "data.dtypes # типы каждого столбца\n",
    "data['Gender'].value_counts()\n",
    "data['Gender'] = data['Gender'].map({'M' : 1, 'F' : 0})\n",
    "set(data['Age'])\n",
    "y = (y == 'Yes').astype(int) # как перевести Yes/No в 1/0\n",
    "data.isnull().sum() # пропуски"
   ]
  },
  {
   "cell_type": "code",
   "execution_count": null,
   "metadata": {},
   "outputs": [],
   "source": [
    "num_cols = data.columns[data.dtypes == 'int64'].tolist() # колонки только числовых данных\n",
    "X = data[num_cols]"
   ]
  },
  {
   "cell_type": "code",
   "execution_count": null,
   "metadata": {},
   "outputs": [],
   "source": [
    "# Перевод в OHE\n",
    "\n",
    "data = pd.get_dummies(data, columns=['City_Category'], drop_first=True)"
   ]
  },
  {
   "cell_type": "code",
   "execution_count": null,
   "metadata": {},
   "outputs": [],
   "source": [
    "y = data['Survived'] # целевая переменная (вектор ответов)\n",
    "\n",
    "X = data.drop('Survived', axis=1) # матрица объект-признак\n",
    "\n",
    "X.head()"
   ]
  },
  {
   "cell_type": "markdown",
   "metadata": {},
   "source": [
    "### Seaborn"
   ]
  },
  {
   "cell_type": "code",
   "execution_count": null,
   "metadata": {},
   "outputs": [],
   "source": [
    "sns.barplot(y='Purchase', x='Age', data=data)"
   ]
  },
  {
   "cell_type": "code",
   "execution_count": null,
   "metadata": {},
   "outputs": [],
   "source": [
    "plt.figure(figsize=(12,9))\n",
    "\n",
    "corr = data.corr()\n",
    "\n",
    "sns.heatmap(corr,annot=True,linewidths=.5,fmt= '.2f',\\\n",
    "            mask=np.zeros_like(corr, dtype=np.bool), \\\n",
    "            cmap=sns.diverging_palette(100,200,as_cmap=True), square=True)"
   ]
  },
  {
   "cell_type": "code",
   "execution_count": null,
   "metadata": {},
   "outputs": [],
   "source": [
    "# Удалить столбец, плохо коррелирующий с ЦП\n",
    "\n",
    "del data['lalala']\n",
    "\n",
    "# Добавить столбец в квадрате\n",
    "\n",
    "data['NEW'] = data['OLD'] ** 2"
   ]
  },
  {
   "cell_type": "code",
   "execution_count": null,
   "metadata": {},
   "outputs": [],
   "source": [
    "# Построить распределение всех признаков в отдельности с ЦП\n",
    "\n",
    "for c in data.columns:\n",
    "    if c != 'target':\n",
    "        print(c)\n",
    "        scatter(data[c], data['target'])\n",
    "        show()"
   ]
  },
  {
   "cell_type": "markdown",
   "metadata": {},
   "source": [
    "Первый подход - меняем модель на более сложную.\n",
    "\n",
    "Подходы к улучшению качества, не меняя модель:\n",
    "\n",
    "1) Искать мультиколлинеарность, удалять зависимые признаки. +\n",
    "\n",
    "2) Пытаться удалить некоррелирующие с таргетом признаки. -\n",
    "\n",
    "в линейной модели:\n",
    "\n",
    "3) Смотрим на графики зависимости таргета с каждым признаком в отдельности, и пытаемся брать функции от признаков (квадрат, синус, экспонента...) +\n",
    "\n",
    "4) Добавляем нелинейные взаимодействия признаков (a*b, a**b ит.д.) -"
   ]
  },
  {
   "cell_type": "markdown",
   "metadata": {},
   "source": [
    "Послевательно добавляйте новые признаки, после каждого шага смотрите, как изменилось качество модели на кросс-валидации:\n",
    "    \n",
    "    * квадрат признака, имеющего наибольшую по модулю корреляцию с таргетом\n",
    "    * произведение двух признаков, имеющих наибольшую по модулю корреляцию с таргетом"
   ]
  },
  {
   "cell_type": "markdown",
   "metadata": {},
   "source": [
    "## Линейная регрессия"
   ]
  },
  {
   "cell_type": "code",
   "execution_count": null,
   "metadata": {},
   "outputs": [],
   "source": [
    "from sklearn.model_selection import train_test_split\n",
    "from sklearn.linear_model import LinearRegression\n",
    "from sklearn.metrics import mean_squared_error\n",
    "\n",
    "\n",
    "Xtrain, Xtest, ytrain, ytest = train_test_split(X, y, test_size=0.2) \n",
    "\n",
    "model = LinearRegression()\n",
    "model.fit(Xtrain, ytrain) # обучение модели\n",
    "\n",
    "\n",
    "pred_test = model.predict(Xtest) # делаем предсказание\n",
    "mean_squared_error(pred_test, ytest) ** 0.5 # чтобы были не рубли в квадрате\n",
    "\n",
    "pred_train = model.predict(Xtrain) # сравниваем с train чтобы не было переобучения\n",
    "mean_squared_error(pred_train, ytrain) ** 0.5\n",
    "\n",
    "\n",
    "print(model.coef_) # веса при признаках (отдельные веса не должны вильно влиять на модель, те быть очень большими)\n",
    "print(model.intercept_) # свободный коэффициент (w0)"
   ]
  },
  {
   "cell_type": "markdown",
   "metadata": {},
   "source": [
    "### Линейная регрессия на кросс-валидации"
   ]
  },
  {
   "cell_type": "code",
   "execution_count": null,
   "metadata": {},
   "outputs": [],
   "source": [
    "from sklearn.model_selection import cross_val_score\n",
    "\n",
    "print(-cross_val_score(LinearRegression(), X, y, cv=3, \n",
    "                       scoring='neg_mean_squared_error').mean())\n",
    "\n",
    "print(cross_val_score(LinearRegression(), X, y, cv=3, \n",
    "                       scoring='r2').mean())"
   ]
  },
  {
   "cell_type": "markdown",
   "metadata": {},
   "source": [
    "### Линнейная регрессия с нормировкой"
   ]
  },
  {
   "cell_type": "code",
   "execution_count": null,
   "metadata": {},
   "outputs": [],
   "source": [
    "from sklearn.preprocessing import StandardScaler\n",
    "\n",
    "y = data['Purchase']\n",
    "X = data.drop(['Purchase'],axis=1)\n",
    "\n",
    "Xtrain, Xtest, ytrain, ytest = train_test_split(X, y, test_size=0.2, random_state=111)\n",
    "\n",
    "scaler = StandardScaler().fit(Xtrain)\n",
    "Xtrain = scaler.transform(Xtrain)\n",
    "Xtest = scaler.transform(Xtest)\n",
    "\n",
    "regressor = LinearRegression()\n",
    "regressor.fit(Xtrain, ytrain)\n",
    "\n",
    "ypred_train = regressor.predict(Xtrain)\n",
    "ypred_test = regressor.predict(Xtest)\n",
    "\n",
    "r2_score(ytrain,ypred_train), r2_score(ytest,ypred_test)"
   ]
  },
  {
   "cell_type": "markdown",
   "metadata": {},
   "source": [
    "#### смотреть коэффициенты"
   ]
  },
  {
   "cell_type": "code",
   "execution_count": null,
   "metadata": {},
   "outputs": [],
   "source": [
    "coefficients = pd.concat([pd.DataFrame(X.columns),pd.DataFrame(np.transpose(regressor.coef_))], axis = 1)\n",
    "print(coefficients)\n",
    "plot(regressor.coef_)"
   ]
  },
  {
   "cell_type": "markdown",
   "metadata": {},
   "source": [
    "## Логистическая регрессия"
   ]
  },
  {
   "cell_type": "code",
   "execution_count": null,
   "metadata": {},
   "outputs": [],
   "source": [
    "from sklearn.metrics import accuracy_score\n",
    "from sklearn.linear_model import LogisticRegression\n",
    "from sklearn.preprocessing import StandardScaler\n",
    "\n",
    "\n",
    "X_train, X_test, y_train, y_test = train_test_split(X, y)\n",
    "\n",
    "scaler = StandardScaler()\n",
    "scaler.fit(X_train) # алгоритм находит параметры: m и sigma\n",
    "\n",
    "X_train_sc = scaler.transform(X_train) # нормирует: x->(x-m)/sigma\n",
    "X_test_sc = scaler.transform(X_test)\n",
    "\n",
    "\n",
    "model = LogisticRegression()\n",
    "model.fit(X_train, y_train)\n",
    "\n",
    "y_pred = model.predict(X_test)\n",
    "accuracy_score(y_pred, y_test)"
   ]
  },
  {
   "cell_type": "code",
   "execution_count": null,
   "metadata": {},
   "outputs": [],
   "source": [
    "from sklearn.model_selection import cross_val_score\n",
    "\n",
    "print(cross_val_score(LogisticRegression(), X, y, cv=3, \n",
    "                       scoring='accuracy').mean())"
   ]
  },
  {
   "cell_type": "markdown",
   "metadata": {},
   "source": [
    "### Логистическая регрессия пайплайн"
   ]
  },
  {
   "cell_type": "code",
   "execution_count": null,
   "metadata": {},
   "outputs": [],
   "source": [
    "from sklearn.pipeline import Pipeline\n",
    "from sklearn.linear_model import LogisticRegression\n",
    "from sklearn.metrics import accuracy_score\n",
    "from sklearn.preprocessing import StandardScaler\n",
    "\n",
    "\n",
    "pipe = Pipeline([\n",
    "    ('scaler_', StandardScaler()),\n",
    "    ('model_', LogisticRegression())\n",
    "    ])\n",
    "\n",
    "pipe.fit(X_train, y_train)\n",
    "y_pred = pipe.predict(X_test)\n",
    "\n",
    "print(accuracy_score(y_test, y_pred))"
   ]
  },
  {
   "cell_type": "code",
   "execution_count": null,
   "metadata": {},
   "outputs": [],
   "source": [
    "# табличка с коэффициентами\n",
    "coefs = pd.DataFrame(model.coef_, index=np.arange(len(model.coef_)), columns=X_train.columns)\n",
    "coefs['Intercept'] = model.intercept_\n",
    "coefs"
   ]
  },
  {
   "cell_type": "markdown",
   "metadata": {},
   "source": [
    "### Кросс-валидация в пайплайне (лог регрессия)"
   ]
  },
  {
   "cell_type": "code",
   "execution_count": null,
   "metadata": {},
   "outputs": [],
   "source": [
    "from sklearn.preprocessing import StandardScaler\n",
    "from sklearn.linear_model import LogisticRegression\n",
    "from sklearn.model_selection import cross_val_score\n",
    "\n",
    "\n",
    "pipe = Pipeline([\n",
    "    ('scaler_', StandardScaler()),\n",
    "    ('model_', LogisticRegression())\n",
    "    ])\n",
    "\n",
    "cross_val_score(pipe, X, y, cv=3).mean()"
   ]
  }
 ],
 "metadata": {
  "kernelspec": {
   "display_name": "Python 3",
   "language": "python",
   "name": "python3"
  },
  "language_info": {
   "codemirror_mode": {
    "name": "ipython",
    "version": 3
   },
   "file_extension": ".py",
   "mimetype": "text/x-python",
   "name": "python",
   "nbconvert_exporter": "python",
   "pygments_lexer": "ipython3",
   "version": "3.7.6"
  }
 },
 "nbformat": 4,
 "nbformat_minor": 4
}
